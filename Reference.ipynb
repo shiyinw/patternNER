{
 "cells": [
  {
   "cell_type": "markdown",
   "metadata": {},
   "source": [
    "# Theano Print"
   ]
  },
  {
   "cell_type": "code",
   "execution_count": null,
   "metadata": {
    "collapsed": true
   },
   "outputs": [],
   "source": [
    "import numpy as np\n",
    "import theano\n",
    "import theano.tensor as T\n",
    "rng = np.random\n",
    "# Training data\n",
    "N = 400\n",
    "feats = 784\n",
    "D = (rng.randn(N, feats).astype(theano.config.floatX), rng.randint(size=N,low=0, high=2).astype(theano.config.floatX))\n",
    "training_steps = 10000\n",
    "# Declare Theano symbolic variables\n",
    "x = T.matrix(\"x\")\n",
    "y = T.vector(\"y\")\n",
    "w = theano.shared(rng.randn(feats).astype(theano.config.floatX), name=\"w\")\n",
    "b = theano.shared(np.asarray(0., dtype=theano.config.floatX), name=\"b\")\n",
    "x.tag.test_value = D[0]\n",
    "y.tag.test_value = D[1]\n",
    "# Construct Theano expression graph\n",
    "p_1 = 1 / (1 + T.exp(-T.dot(x, w)-b)) # Probability of having a one\n",
    "prediction = p_1 > 0.5 # The prediction that is done: 0 or 1\n",
    "# Compute gradients\n",
    "xent = -y*T.log(p_1) - (1-y)*T.log(1-p_1) # Cross-entropy\n",
    "cost = xent.mean() + 0.01*(w**2).sum() # The cost to optimize\n",
    "gw,gb = T.grad(cost, [w,b])\n",
    "# Training and prediction function\n",
    "train = theano.function(inputs=[x,y], outputs=[prediction, xent], updates=[[w, w-0.01*gw], [b, b-0.01*gb]], name = \"train\")\n",
    "predict = theano.function(inputs=[x], outputs=prediction, name = \"predict\")"
   ]
  },
  {
   "cell_type": "code",
   "execution_count": null,
   "metadata": {
    "collapsed": true
   },
   "outputs": [],
   "source": [
    "theano.printing.pprint(prediction) "
   ]
  },
  {
   "cell_type": "code",
   "execution_count": null,
   "metadata": {
    "collapsed": true
   },
   "outputs": [],
   "source": [
    "theano.printing.pydotprint(prediction, outfile=\"logreg_pydotprint_prediction.png\", var_with_name_simple=True)  "
   ]
  },
  {
   "cell_type": "markdown",
   "metadata": {
    "collapsed": true
   },
   "source": [
    "# CoreNLP"
   ]
  },
  {
   "cell_type": "code",
   "execution_count": null,
   "metadata": {},
   "outputs": [
    {
     "name": "stdout",
     "output_type": "stream",
     "text": [
      "100 1.4687469005584717\n"
     ]
    }
   ],
   "source": [
    "sent_data = []\n",
    "cnt = 0\n",
    "import time\n",
    "start = time.time()\n",
    "from pycorenlp import StanfordCoreNLP\n",
    "nlp = StanfordCoreNLP('http://localhost:9000')\n",
    "# total 302736\n",
    "with open(\"./data/train1.ner.txt\", \"r\") as f:\n",
    "    for sent in f:\n",
    "        cnt += 1\n",
    "        if(cnt % 1e2==0):\n",
    "            print (cnt, time.time()-start)\n",
    "        sent = sent.replace(\"\\n\", \"\")\n",
    "        res = nlp.annotate(sent, properties={'annotators':\"pos\", 'outputFormat':'json'})\n",
    "        res = res[\"sentences\"]\n",
    "        #print(sent)\n",
    "        noun_list = []\n",
    "        for word in res[0]['tokens']:\n",
    "            if(word['pos'][0]=='N'):\n",
    "                noun_list.append(word['word'])\n",
    "        sent_format = (sent, noun_list)\n",
    "        sent_data.append(sent_format)\n",
    "import json\n",
    "with open(\"./data/sents.json\", \"w\") as f:\n",
    "    json.dump(sent_data, f)"
   ]
  },
  {
   "cell_type": "markdown",
   "metadata": {},
   "source": [
    "# PPT"
   ]
  },
  {
   "cell_type": "code",
   "execution_count": 77,
   "metadata": {},
   "outputs": [],
   "source": [
    "import json\n",
    "import numpy as np\n",
    "with open(\"data/structural_match.json\", \"r\") as f:\n",
    "    data = json.load(f)"
   ]
  },
  {
   "cell_type": "code",
   "execution_count": 78,
   "metadata": {},
   "outputs": [
    {
     "name": "stdout",
     "output_type": "stream",
     "text": [
      "( $N$ ) $W$ $W$ [ 1.  0.  0.] 13\n",
      "$N$ - $N$ $W$ ) [ 1.  0.  0.] 11\n",
      "$W$ / + [ 1.  0.  0.] 13\n",
      "$N$ ' - $W$ $W$ [ 1.  0.  0.] 28\n",
      "$W$ $N$$W$$N$ [ 1.  0.  0.] 11\n",
      "$W$ $N$ ' - $W$ [ 1.  0.  0.] 16\n",
      "$W$ $W$ ( $N$ ) [ 1.  0.  0.] 16\n",
      "$W$ ( $N$ ) [ 1.  0.  0.] 21\n",
      "$W$$N$ - $N$ [ 1.  0.  0.] 15\n",
      "$W$$N$ . $N$ [ 1.  0.  0.] 34\n",
      "$N$ ' - $W$ [ 1.  0.  0.] 120\n",
      "$N$$W$ - $N$ [ 1.  0.  0.] 35\n",
      "$W$ / $W$ ) $W$ [ 1.  0.  0.] 16\n",
      "$W$ $W$ $W$ . $N$ [ 1.  0.  0.] 22\n",
      "$W$ $W$$N$ . $N$ $W$ [ 1.  0.  0.] 13\n",
      "$W$ $N$ . $N$ [ 1.  0.  0.] 73\n",
      "$N$$W$ - $N$$W$ [ 1.  0.  0.] 41\n",
      "$W$ . $N$ [ 1.  0.  0.] 37\n",
      "$W$$N$ . $N$ $W$ $W$ [ 1.  0.  0.] 26\n",
      "$N$ . $N$ [ 1.  0.  0.] 328\n",
      "$N$ ' $W$ [ 1.  0.  0.] 35\n",
      "$W$ $W$$N$ . $N$ [ 1.  0.  0.] 17\n"
     ]
    }
   ],
   "source": [
    "def normalize(v):\n",
    "    norm=np.linalg.norm(v, ord=1)\n",
    "    if norm==0:\n",
    "        norm=np.finfo(v.dtype).eps\n",
    "    return v/norm\n",
    "\n",
    "\n",
    "for p in data:\n",
    "    a = [0, 0, 0]\n",
    "    for i in data[p]:\n",
    "        a = np.add(a, normalize(np.array(data[p][i])))\n",
    "    a = normalize(a)\n",
    "    if(a[0]==1 and len(data[p])>10):\n",
    "        print(p, a, len(data[p]))"
   ]
  }
 ],
 "metadata": {
  "kernelspec": {
   "display_name": "Python 3",
   "language": "python",
   "name": "python3"
  },
  "language_info": {
   "codemirror_mode": {
    "name": "ipython",
    "version": 3
   },
   "file_extension": ".py",
   "mimetype": "text/x-python",
   "name": "python",
   "nbconvert_exporter": "python",
   "pygments_lexer": "ipython3",
   "version": "3.6.1"
  }
 },
 "nbformat": 4,
 "nbformat_minor": 2
}
